{
 "cells": [
  {
   "cell_type": "markdown",
   "id": "96ea0f55-82a9-469e-8580-7d8cf7c3af98",
   "metadata": {},
   "source": [
    "# Enter Gemini and Tavily API key"
   ]
  },
  {
   "cell_type": "code",
   "execution_count": 5,
   "id": "30401e65-95eb-4b33-ba98-2e7a002ddc00",
   "metadata": {},
   "outputs": [
    {
     "name": "stdout",
     "output_type": "stream",
     "text": [
      "Enter Gemini API Key:  ········\n"
     ]
    }
   ],
   "source": [
    "from getpass import getpass\n",
    "\n",
    "Gemini_Key = getpass('Enter Gemini API Key: ')"
   ]
  },
  {
   "cell_type": "code",
   "execution_count": 6,
   "id": "6291b954-a3bb-4956-b6e6-f5843e02b69d",
   "metadata": {},
   "outputs": [
    {
     "name": "stdout",
     "output_type": "stream",
     "text": [
      "Enter Tavily Search API Key:  ········\n"
     ]
    }
   ],
   "source": [
    "TAVILY_API_KEY = getpass('Enter Tavily Search API Key: ')"
   ]
  },
  {
   "cell_type": "code",
   "execution_count": 7,
   "id": "cdfbb4d0-c04f-4f23-8e94-84ade07fa78f",
   "metadata": {},
   "outputs": [],
   "source": [
    "import os\n",
    "\n",
    "os.environ['GOOGLE_API_KEY'] = Gemini_Key\n",
    "os.environ['TAVILY_API_KEY'] = TAVILY_API_KEY"
   ]
  },
  {
   "cell_type": "markdown",
   "id": "2ac2c438-397b-419a-8e83-395db7579cab",
   "metadata": {},
   "source": [
    "# Building Vector Database"
   ]
  },
  {
   "cell_type": "code",
   "execution_count": 8,
   "id": "579f55fa-ec82-4fd2-9835-ddd5d76149e2",
   "metadata": {},
   "outputs": [],
   "source": [
    "from langchain_google_genai import GoogleGenerativeAIEmbeddings\n",
    "\n",
    "# Initialize the Gemini (Google) embedding model\n",
    "gemini_embed_model = GoogleGenerativeAIEmbeddings(model=\"models/embedding-001\")"
   ]
  },
  {
   "cell_type": "code",
   "execution_count": 1,
   "id": "565e4177-9414-4b54-8789-0a96c1530778",
   "metadata": {},
   "outputs": [
    {
     "name": "stderr",
     "output_type": "stream",
     "text": [
      "'gdown' is not recognized as an internal or external command,\n",
      "operable program or batch file.\n"
     ]
    }
   ],
   "source": [
    "# Getting data from wikipedia\n",
    "\n",
    "!gdown 1oWBnoxBZ1Mpeond8XDUSO6J9oAjcRDyW"
   ]
  },
  {
   "cell_type": "markdown",
   "id": "993d1a0a-c269-41d7-9077-8c92bb78a574",
   "metadata": {},
   "source": [
    "### Loading and Chunking Docs\n",
    "Only getting docs related to football"
   ]
  },
  {
   "cell_type": "code",
   "execution_count": 9,
   "id": "49b201d7-3461-47fb-a2c9-e0383f3b85b3",
   "metadata": {},
   "outputs": [],
   "source": [
    "import gzip\n",
    "import json\n",
    "from langchain.docstore.document import Document\n",
    "from langchain.text_splitter import RecursiveCharacterTextSplitter\n",
    "\n",
    "wikipedia_filepath = 'simplewiki-2020-11-01.jsonl.gz'\n",
    "\n",
    "docs = []\n",
    "with gzip.open(wikipedia_filepath, 'rt', encoding='utf8') as fIn:\n",
    "    for line in fIn:\n",
    "        data = json.loads(line.strip())\n",
    "        #Add all paragraphs\n",
    "        #passages.extend(data['paragraphs'])\n",
    "        #adding limited paragraphs\n",
    "        docs.append({\n",
    "                        'metadata': {\n",
    "                                        'title': data.get('title'),\n",
    "                                        'article_id': data.get('id')\n",
    "                        },\n",
    "                        'data': ' '.join(data.get('paragraphs')[0:2]) # restricting data to first 2 paragraphs to run later modules faster\n",
    "        })\n",
    "\n",
    "# We subset our data so we only use a subset of wikipedia documents to run things faster\n",
    "docs = [doc for doc in docs for x in ['football']\n",
    "              if x in doc['data'].lower().split()]\n",
    "# Create docs\n",
    "docs = [Document(page_content=doc['data'],\n",
    "                 metadata=doc['metadata']) for doc in docs]\n",
    "# Chunk docs\n",
    "splitter = RecursiveCharacterTextSplitter(chunk_size=2000, chunk_overlap=300)\n",
    "chunked_docs = splitter.split_documents(docs)"
   ]
  },
  {
   "cell_type": "code",
   "execution_count": 10,
   "id": "ab53c58c-fde7-41e9-b83b-5fe483b8f8b9",
   "metadata": {},
   "outputs": [
    {
     "data": {
      "text/plain": [
       "7865"
      ]
     },
     "execution_count": 10,
     "metadata": {},
     "output_type": "execute_result"
    }
   ],
   "source": [
    "len(chunked_docs)"
   ]
  },
  {
   "cell_type": "code",
   "execution_count": 11,
   "id": "c387d3a9-e9a4-481c-a020-67344b2cfb76",
   "metadata": {},
   "outputs": [
    {
     "data": {
      "text/plain": [
       "[Document(metadata={'title': 'Figueirense F.C.', 'article_id': '85033'}, page_content='Figueirense Futebol Clube, also known as Figueirense, is a Brazilian football team in Florianópolis, Santa Catarina. In 1921, the club was founded as Figueirense Football Club.'),\n",
       " Document(metadata={'title': 'Real Sociedad', 'article_id': '85731'}, page_content='Real Sociedad de Fútbol is a Spanish football team. The team is in Donostia-San Sebastián in the Spanish province of Guipuzcoa. It was created in 1909. In the 2006/07 season, the team was in La Liga. After 40 years in this division, in the season 2007/08 Real Sociedad plays in Segunda División. The colors of the team are blue and white. Anoeta Stadium is the stadium of Real Sociedad. Anoeta has a capacity of 32 000. Anoeta Stadium was opened in 1993.'),\n",
       " Document(metadata={'title': 'ACF Fiorentina', 'article_id': '86084'}, page_content='ACF Fiorentina \"(Associazione Calcio Fiorentina e Florentia Viola)\",often called Fiorentina, is an Italian professional football club from Florence, Tuscany, and was founded in 1926. Fiorentina have won the Serie A twice, first in 1955/56 then again in 1968/69, as well as winning six Coppa Italia trophies. On the European stage Fiorentina have won the UEFA Cup Winners\\' Cup in 1960/61, they finished runners-up in the UEFA Cup 1989/90 and they also came close to winning the biggest European prize, finishing as runners-up in the European Cup during 1956/57.')]"
      ]
     },
     "execution_count": 11,
     "metadata": {},
     "output_type": "execute_result"
    }
   ],
   "source": [
    "chunked_docs[:3]"
   ]
  },
  {
   "cell_type": "markdown",
   "id": "fa3dbce8-40c0-4f5a-a3e6-70ad1d609314",
   "metadata": {},
   "source": [
    "### Creating Chroma Vector DB"
   ]
  },
  {
   "cell_type": "code",
   "execution_count": 12,
   "id": "27f9e58f-a7bc-4d34-94c1-78d307c3fffc",
   "metadata": {},
   "outputs": [],
   "source": [
    "from langchain_chroma import Chroma\n",
    "\n",
    "chroma_db = Chroma.from_documents(documents=chunked_docs, collection_name=\"rag_db\" , embedding=gemini_embed_model , \n",
    "                                  collection_metadata={\"hnsw:space\":\"cosine\"}, persist_directory=\"./wikipedia_db\")  \n",
    "                                  #uses euclidean by default"
   ]
  },
  {
   "cell_type": "code",
   "execution_count": 13,
   "id": "b1830eb3-d16c-4fec-b42f-10f9121dd19a",
   "metadata": {},
   "outputs": [],
   "source": [
    "chroma_retriever = chroma_db.as_retriever(search_type=\"similarity_score_threshold\" , search_kwargs = {\"k\":3 , \"score_threshold\" : 0.3 } )\n"
   ]
  },
  {
   "cell_type": "code",
   "execution_count": 14,
   "id": "921717fa-1025-4c17-886c-233567909f10",
   "metadata": {},
   "outputs": [
    {
     "data": {
      "text/plain": [
       "[Document(id='281356f7-9ed8-4d10-86eb-6d4522462f8d', metadata={'article_id': '52538', 'title': 'La Liga'}, page_content='La Liga, commonly known La Liga Santander for sponsor reasons, is a football league which is the top division in Spain.'),\n",
       " Document(id='e5b9de67-2366-47b6-9a17-841fb8a6f5a1', metadata={'title': 'Segunda División', 'article_id': '165351'}, page_content='Segunda División is a football league which is second division in Spain.'),\n",
       " Document(id='855bfa8a-c5e3-4c72-8bd2-f25e7ce17ae2', metadata={'title': 'German 3. Liga', 'article_id': '247404'}, page_content='The 3. Liga (3rd league) is a football league which is third division in Germany.')]"
      ]
     },
     "execution_count": 14,
     "metadata": {},
     "output_type": "execute_result"
    }
   ],
   "source": [
    "query = \"What is LaLiga?\"\n",
    "\n",
    "top_3_docs = chroma_retriever.invoke(query)\n",
    "\n",
    "top_3_docs"
   ]
  },
  {
   "cell_type": "code",
   "execution_count": 16,
   "id": "57f68a21-20b7-4d00-a555-420166e9e31b",
   "metadata": {},
   "outputs": [
    {
     "data": {
      "text/plain": [
       "[Document(id='d41f8a15-e7cc-4a6e-8bbc-3a8e595f90e2', metadata={'title': 'Georgia national football team', 'article_id': '172954'}, page_content='Georgia national football team is the national football team of Georgia.'),\n",
       " Document(id='4c8d93a8-3738-4971-9072-570898eb7a66', metadata={'article_id': '332524', 'title': 'Florida Seminoles'}, page_content='The Florida Seminoles are a college football team that plays in the NCAA.'),\n",
       " Document(id='ea5ba666-6b79-4f4a-b011-a7085c67cba8', metadata={'title': 'Guyana national football team', 'article_id': '172983'}, page_content='Guyana national football team is the national football team of Guyana.')]"
      ]
     },
     "execution_count": 16,
     "metadata": {},
     "output_type": "execute_result"
    }
   ],
   "source": [
    "query = \"What is Gemini API?\"\n",
    "\n",
    "top_3_docs = chroma_retriever.invoke(query)\n",
    "\n",
    "top_3_docs"
   ]
  },
  {
   "cell_type": "markdown",
   "id": "75b79b7e-37de-422c-82da-362207e1d029",
   "metadata": {},
   "source": [
    "# Creating an LLM For Grading The Retrieved Documents"
   ]
  },
  {
   "cell_type": "code",
   "execution_count": 32,
   "id": "350cf70a-ae36-4f61-8c3b-80a75fd7177f",
   "metadata": {},
   "outputs": [],
   "source": [
    "from langchain_core.prompts import ChatPromptTemplate\n",
    "from langchain_core.pydantic_v1 import BaseModel, Field\n",
    "from langchain_google_genai import ChatGoogleGenerativeAI\n",
    "\n",
    "# Creating Pydantic Data Model for LLM Output Format\n",
    "class GradeDocuments(BaseModel):\n",
    "    binary_score: str = Field ( description = \"Documents are relevant to the question, 'yes' or 'no' \" )\n",
    "\n",
    "#LLM Model for Grading documents\n",
    "llm = ChatGoogleGenerativeAI(model=\"gemini-2.5-pro\" , temperature=0)\n",
    "\n",
    "structured_llm_grader = llm.with_structured_output(GradeDocuments) \n",
    "# So basically output of this llm model will be structured to yes or no depending on relevancy of documents"
   ]
  },
  {
   "cell_type": "code",
   "execution_count": 33,
   "id": "a70784a9-3f62-4d04-925c-a9519d5534aa",
   "metadata": {},
   "outputs": [],
   "source": [
    "# Prompt template for grading\n",
    "SYS_PROMPT = \"\"\"You are an expert grader assessing relevance of a retrieved document to a user question.\n",
    "                Follow these instructions for grading:\n",
    "                  - If the document contains keyword(s) or semantic meaning related to the question, grade it as relevant.\n",
    "                  - Your grade should be either 'yes' or 'no' to indicate whether the document is relevant to the question or not.\n",
    "             \"\"\"\n",
    "grade_prompt = ChatPromptTemplate.from_messages(\n",
    "    [\n",
    "        (\"system\", SYS_PROMPT),\n",
    "        (\"human\", \"\"\"Retrieved document:\n",
    "                     {document}\n",
    "\n",
    "                     User question:\n",
    "                     {question}\n",
    "                  \"\"\"),\n",
    "    ]\n",
    ")\n",
    "# Chat Prompt Template  formats the input (like document and question) into a structured prompt.\n",
    "\n",
    "# Build grader chain\n",
    "doc_grader = (grade_prompt\n",
    "                  |\n",
    "              structured_llm_grader)\n",
    "\n",
    "# here we are creating a chain, This is a pipeline: first, the prompt is filled using the inputs (document, question) and passed to the LLM.\n",
    "# Then, the LLM processes the prompt and returns a structured output, typically JSON or a parsed object."
   ]
  },
  {
   "cell_type": "code",
   "execution_count": 34,
   "id": "93daa039-19ca-410b-a1a0-2e9ca7b689ca",
   "metadata": {},
   "outputs": [
    {
     "name": "stdout",
     "output_type": "stream",
     "text": [
      "The 2017–18 UEFA Champions League was the 63rd season of Europe's top club football tournament run by UEFA. It is the 26th season since it was renamed from the European Champion Clubs' Cup to the UEFA Champions League. <section begin=R16 />\n",
      "GRADE: binary_score='yes'\n",
      "\n",
      "The CAF Champions League is a football competition between the best club teams in Africa. The teams are selected because of good performances in matches.\n",
      "GRADE: binary_score='yes'\n",
      "\n",
      "The 2016-17 UEFA Champions League is the 62st season of Europe's premier club football tournament organised by UEFA. It is the 25th season since it was renamed from the European Champion Clubs' Cup to the UEFA Champions League. The 2017 UEFA Champions League Final was played at the Millennium Stadium in Cardiff, Wales. Real Madrid are the defending champions.\n",
      "GRADE: binary_score='yes'\n",
      "\n"
     ]
    }
   ],
   "source": [
    "query = \"What is Champions League?\"\n",
    "top3_docs = chroma_retriever.invoke(query)\n",
    "for doc in top3_docs:\n",
    "    print(doc.page_content)\n",
    "    print('GRADE:', doc_grader.invoke({\"question\": query, \"document\": doc.page_content}))\n",
    "    print()"
   ]
  },
  {
   "cell_type": "code",
   "execution_count": 88,
   "id": "fcd697ea-261c-49d6-b595-5b59653fead8",
   "metadata": {},
   "outputs": [
    {
     "name": "stdout",
     "output_type": "stream",
     "text": [
      "The Japanese national football team is the national football team of Japan.\n",
      "GRADE: binary_score='no'\n",
      "\n",
      "South Africa national football team is the national football team of South Africa.\n",
      "GRADE: binary_score='no'\n",
      "\n",
      "Singapore national football team is the national football team of Singapore.\n",
      "GRADE: binary_score='no'\n",
      "\n"
     ]
    }
   ],
   "source": [
    "query = \"what is fastapi?\"\n",
    "top3_docs = chroma_retriever.invoke(query)\n",
    "for doc in top3_docs:\n",
    "    print(doc.page_content)\n",
    "    print('GRADE:', doc_grader.invoke({\"question\": query, \"document\": doc.page_content}))\n",
    "    print()"
   ]
  },
  {
   "cell_type": "markdown",
   "id": "2514eacd-662d-4202-b1a9-3a789f682ef9",
   "metadata": {},
   "source": [
    "# Building RAG Chain for QA"
   ]
  },
  {
   "cell_type": "code",
   "execution_count": 35,
   "id": "8a669323-c956-4bb0-b0a0-c55763e61833",
   "metadata": {},
   "outputs": [],
   "source": [
    "from langchain_core.prompts import ChatPromptTemplate\n",
    "from langchain_core.runnables import RunnablePassthrough, RunnableLambda\n",
    "from langchain_core.output_parsers import StrOutputParser\n",
    "from operator import itemgetter\n",
    "\n",
    "# Create RAG prompt for response generation\n",
    "prompt = \"\"\"You are an assistant for question-answering tasks.\n",
    "            Use the following pieces of retrieved context to answer the question.\n",
    "            If no context is present or if you don't know the answer, just say that you don't know the answer.\n",
    "            Do not make up the answer unless it is there in the provided context.\n",
    "            Give a detailed answer and to the point answer with regard to the question.\n",
    "\n",
    "            Question:\n",
    "            {question}\n",
    "\n",
    "            Context:\n",
    "            {context}\n",
    "\n",
    "            Answer:\n",
    "         \"\"\"\n",
    "prompt_template = ChatPromptTemplate.from_template(prompt)\n",
    "\n",
    "#LLM Model\n",
    "gemini = ChatGoogleGenerativeAI(model=\"gemini-2.5-pro\" , temperature=0)\n",
    "\n",
    "# Used for separating context docs with new lines\n",
    "def format_docs(docs):\n",
    "    return \"\\n\\n\".join(doc.page_content for doc in docs)\n",
    "\n",
    "# create QA RAG chain\n",
    "'''\n",
    "The reason we are sending context and question like this at start is because in previous(Grading) code, we wre just sending a single string instead\n",
    "of list of documents, here since it is list of docs, we have to format it first.\n",
    "'''\n",
    "qa_rag_chain = (\n",
    "    {\n",
    "        \"context\": (itemgetter('context')\n",
    "                        |\n",
    "                    RunnableLambda(format_docs)),\n",
    "        \"question\": itemgetter('question')\n",
    "    }\n",
    "      |\n",
    "    prompt_template\n",
    "      |\n",
    "    gemini\n",
    "      |\n",
    "    StrOutputParser()\n",
    ")\n",
    "\n",
    "#StrOutputParser is a LangChain component that parses the output of an LLM call into a simple string."
   ]
  },
  {
   "cell_type": "code",
   "execution_count": 37,
   "id": "6a8d5fc7-d83c-4080-9b8f-c1bb0f2c3ab8",
   "metadata": {},
   "outputs": [
    {
     "name": "stdout",
     "output_type": "stream",
     "text": [
      "Based on the provided context, I don't know the answer to who won the Champions League in 2024.\n",
      "\n",
      "The context provided mentions the 2017–18 UEFA Champions League, the CAF Champions League for African clubs, and the Primeira Liga in Portugal. There is no information regarding the winner of the 2024 Champions League.\n"
     ]
    }
   ],
   "source": [
    "query = \"who won the champions league in 2024?\"\n",
    "top3_docs = chroma_retriever.invoke(query)\n",
    "result = qa_rag_chain.invoke(\n",
    "    {\"context\": top3_docs, \"question\": query}\n",
    ")\n",
    "print(result)"
   ]
  },
  {
   "cell_type": "code",
   "execution_count": null,
   "id": "f84b82d2-2667-447b-aed6-e1224d19fc03",
   "metadata": {},
   "outputs": [],
   "source": [
    "query = \"What is Champions League?\"\n",
    "top3_docs = similarity_threshold_retriever.invoke(query)\n",
    "result = qa_rag_chain.invoke(\n",
    "    {\"context\": top3_docs, \"question\": query}\n",
    ")\n",
    "print(result)"
   ]
  },
  {
   "cell_type": "markdown",
   "id": "5a0c89c2-f806-47f8-8c79-276f1c8151de",
   "metadata": {},
   "source": [
    "# Creating a Query Rephraser"
   ]
  },
  {
   "cell_type": "code",
   "execution_count": 74,
   "id": "e8438249-d37a-4c2f-ae03-e182793c1bfc",
   "metadata": {},
   "outputs": [],
   "source": [
    "# LLM for question rewriting\n",
    "llm = ChatGoogleGenerativeAI(model=\"gemini-2.5-pro\" , temperature=0)\n",
    "\n",
    "# Prompt template for rewriting\n",
    "SYS_PROMPT = \"\"\"Act as a question re-writer and perform the following task:\n",
    "                 - Convert the following input question to a better version that is optimized for web search.\n",
    "                 - When re-writing, look at the input question and try to reason about the underlying semantic intent / meaning. Don't output anything else. Just the improved query for web searching\n",
    "             \"\"\"\n",
    "re_write_prompt = ChatPromptTemplate.from_messages(\n",
    "    [\n",
    "        (\"system\", SYS_PROMPT),\n",
    "        (\"human\", \"\"\"Here is the initial question:\n",
    "                     {question}\n",
    "\n",
    "                     Formulate an improved question.\n",
    "                  \"\"\",\n",
    "        ),\n",
    "    ]\n",
    ")\n",
    "# Create rephraser chain\n",
    "question_rewriter = (re_write_prompt\n",
    "                        |\n",
    "                       llm\n",
    "                        |\n",
    "                     StrOutputParser())"
   ]
  },
  {
   "cell_type": "code",
   "execution_count": 75,
   "id": "154e5091-f641-4a37-af09-b89f35780ec0",
   "metadata": {},
   "outputs": [
    {
     "data": {
      "text/plain": [
       "'2024 Champions League winner'"
      ]
     },
     "execution_count": 75,
     "metadata": {},
     "output_type": "execute_result"
    }
   ],
   "source": [
    "query = \"who won the champions league in 2024?\"\n",
    "question_rewriter.invoke({\"question\": query})"
   ]
  },
  {
   "cell_type": "code",
   "execution_count": null,
   "id": "e08fdd97-ae0a-4e25-aeef-de896ec258e5",
   "metadata": {},
   "outputs": [],
   "source": []
  },
  {
   "cell_type": "markdown",
   "id": "197095fd-f387-45f3-8d27-0dccba6ef257",
   "metadata": {},
   "source": [
    "# Building Agentic RAG"
   ]
  },
  {
   "cell_type": "markdown",
   "id": "8a4ca4b7-93bb-4243-92cd-48d447230f3f",
   "metadata": {},
   "source": [
    "#### 1) Initiliazing Web Search Tool"
   ]
  },
  {
   "cell_type": "code",
   "execution_count": 40,
   "id": "3a434c6d-6496-4df1-89ad-68d4c51ec0aa",
   "metadata": {},
   "outputs": [
    {
     "name": "stderr",
     "output_type": "stream",
     "text": [
      "C:\\Users\\desmo\\AppData\\Local\\Temp\\ipykernel_99972\\3719633729.py:3: LangChainDeprecationWarning: The class `TavilySearchResults` was deprecated in LangChain 0.3.25 and will be removed in 1.0. An updated version of the class exists in the :class:`~langchain-tavily package and should be used instead. To use it run `pip install -U :class:`~langchain-tavily` and import as `from :class:`~langchain_tavily import TavilySearch``.\n",
      "  tv_search = TavilySearchResults(max_results=3, search_depth='advanced',\n"
     ]
    }
   ],
   "source": [
    "from langchain_community.tools.tavily_search import TavilySearchResults\n",
    "\n",
    "tv_search = TavilySearchResults(max_results=3, search_depth='advanced',\n",
    "                                max_tokens=10000)"
   ]
  },
  {
   "cell_type": "code",
   "execution_count": null,
   "id": "b80e0b2a-a908-48bf-8550-f77dfc2d84a6",
   "metadata": {},
   "outputs": [],
   "source": []
  },
  {
   "cell_type": "markdown",
   "id": "114af76d-4ff1-42d2-aa6f-bcdc8132413b",
   "metadata": {},
   "source": [
    "#### 2) Graph State\n",
    "Used to store and represent the state of the Agent Graph as we traverse through various nodes"
   ]
  },
  {
   "cell_type": "code",
   "execution_count": 76,
   "id": "e93afd18-ba90-4055-8f6e-7b0ed427a7c5",
   "metadata": {},
   "outputs": [],
   "source": [
    "from typing import List\n",
    "from typing_extensions import TypedDict\n",
    "\n",
    "class GraphState(TypedDict):\n",
    "    \"\"\"\n",
    "    Represents the state of our graph.\n",
    "\n",
    "    Attributes:\n",
    "        question: question\n",
    "        generation: LLM response generation\n",
    "        web_search_needed: flag of whether to add web search - yes or no\n",
    "        documents: list of context documents\n",
    "    \"\"\"\n",
    "\n",
    "    question: str\n",
    "    generation: str\n",
    "    web_search_needed: str\n",
    "    documents: List[str]"
   ]
  },
  {
   "cell_type": "code",
   "execution_count": null,
   "id": "b8d54832-71dc-4a0f-afa4-38b348ede1d3",
   "metadata": {},
   "outputs": [],
   "source": []
  },
  {
   "cell_type": "markdown",
   "id": "ebb790cf-141f-4fbd-b6c3-2f2df6dda402",
   "metadata": {},
   "source": [
    "### 3) Creating Functions for Each Nodes\n",
    "#### 3.1) Retrive function for Retrieval from Vector DB"
   ]
  },
  {
   "cell_type": "code",
   "execution_count": 78,
   "id": "0fa457cd-07e1-4ce4-8d36-91749f5d9bf2",
   "metadata": {},
   "outputs": [],
   "source": [
    "def retrieve(state):\n",
    "    \"\"\"\n",
    "    Retrieve documents\n",
    "\n",
    "    Args:\n",
    "        state (dict): The current graph state\n",
    "\n",
    "    Returns:\n",
    "        state (dict): New key added to state, documents - that contains retrieved context documents\n",
    "    \"\"\"    \n",
    "    print(\"---Retrieveal from Vector DB---\")\n",
    "    question = state['question']\n",
    "\n",
    "    documents = chroma_retriever.invoke(question)\n",
    "\n",
    "    return{'documents' : documents , 'question' : question}"
   ]
  },
  {
   "cell_type": "code",
   "execution_count": null,
   "id": "7fdb080b-7e6f-415e-86d5-99254a445985",
   "metadata": {},
   "outputs": [],
   "source": []
  },
  {
   "cell_type": "markdown",
   "id": "4dff7db0-7e4b-4446-b9b6-6777143bd9fa",
   "metadata": {},
   "source": [
    "#### 3.2) Document Grader\n",
    "This will be used to determine whether the retrieved documents are relevant to the question by using an LLM Grader\n",
    "\n",
    "Sets the web_search_needed flag as \"Yes\" if at least one document is not contextually relevant and sets it as \"No\" if all documents are contextually relevant to the given user query"
   ]
  },
  {
   "cell_type": "code",
   "execution_count": 79,
   "id": "32bbe0ba-62e5-41b1-9a96-1589be6ac370",
   "metadata": {},
   "outputs": [],
   "source": [
    "def grade_documents(state):\n",
    "    print(\"---CHECK DOCUMENT RELEVANCE TO QUESTION---\")\n",
    "    question = state[\"question\"]\n",
    "    documents = state[\"documents\"]\n",
    "\n",
    "    # Score each doc\n",
    "    filtered_docs = []\n",
    "    web_search_needed = \"No\"\n",
    "    if documents:\n",
    "        for d in documents:\n",
    "            score = doc_grader.invoke(\n",
    "                {\"question\": question, \"document\": d.page_content}\n",
    "            )\n",
    "            grade = score.binary_score\n",
    "            if grade == \"yes\":\n",
    "                print(\"---GRADE: DOCUMENT RELEVANT---\")\n",
    "                filtered_docs.append(d)\n",
    "            else:\n",
    "                print(\"---GRADE: DOCUMENT NOT RELEVANT---\")\n",
    "                web_search_needed = \"Yes\"\n",
    "                continue\n",
    "    else:\n",
    "        print(\"---NO DOCUMENTS RETRIEVED---\")\n",
    "        web_search_needed = \"Yes\"\n",
    "\n",
    "    return {\"documents\": filtered_docs, \"question\": question, \"web_search_needed\": web_search_needed}"
   ]
  },
  {
   "cell_type": "code",
   "execution_count": null,
   "id": "90b020bc-2d46-4176-9f30-143284fed00d",
   "metadata": {},
   "outputs": [],
   "source": []
  },
  {
   "cell_type": "markdown",
   "id": "7f3a8aef-af87-435b-b412-15ebe51690d7",
   "metadata": {},
   "source": [
    "#### 3.3) Rewrite Query\n",
    "This will be used to rewrite the input query to produce a better question optimized for web search using an LLM"
   ]
  },
  {
   "cell_type": "code",
   "execution_count": 80,
   "id": "7ddc8d83-9be0-4783-9a98-5c250cf6b4af",
   "metadata": {},
   "outputs": [],
   "source": [
    "def rewrite_query(state):\n",
    "    print(\"---REWRITE QUERY---\")\n",
    "    question = state[\"question\"]\n",
    "    documents = state[\"documents\"]\n",
    "\n",
    "    # Re-write question\n",
    "    print(\"previous question\" , question)\n",
    "    better_question = question_rewriter.invoke({\"question\": question})\n",
    "    print(\"better question\" , better_question)\n",
    "\n",
    "    return {\"documents\": documents, \"question\": better_question}"
   ]
  },
  {
   "cell_type": "code",
   "execution_count": null,
   "id": "5da6d5b9-fcfe-4a4a-b616-37779096fd8b",
   "metadata": {},
   "outputs": [],
   "source": []
  },
  {
   "cell_type": "markdown",
   "id": "9ae317db-5aeb-408c-80f8-d271188aacc4",
   "metadata": {},
   "source": [
    "#### 3.4) Web Search\n",
    "This will be used to search the web using the web search tool for the given query and retrieve some information which can be used as the context in RAG"
   ]
  },
  {
   "cell_type": "code",
   "execution_count": 81,
   "id": "314bb38a-51d9-4203-a153-2d2f4d04fefe",
   "metadata": {},
   "outputs": [],
   "source": [
    "from langchain.schema import Document\n",
    "\n",
    "def web_search(state):\n",
    "    print(\"---WEB SEARCH---\")\n",
    "    question = state[\"question\"]\n",
    "    documents = state[\"documents\"]\n",
    "\n",
    "    print(question)\n",
    "\n",
    "    # Web search\n",
    "    docs = tv_search.invoke(question)\n",
    "    print(docs)\n",
    "    web_results = \"\\n\\n\".join([d[\"content\"] for d in docs])\n",
    "    print(1)\n",
    "    web_results = Document(page_content=web_results)\n",
    "    print(2)\n",
    "\n",
    "    documents.append(web_results)\n",
    "    print(3)\n",
    "\n",
    "    return {\"documents\": documents, \"question\": question}"
   ]
  },
  {
   "cell_type": "code",
   "execution_count": null,
   "id": "5577a554-7905-4aa7-8480-f1905e022785",
   "metadata": {},
   "outputs": [],
   "source": []
  },
  {
   "cell_type": "markdown",
   "id": "b0e8b97c-6b5f-4424-99c9-aa041f4f5180",
   "metadata": {},
   "source": [
    "#### 3.5) Decide to Generate\n",
    "This will be used as a conditional function which will check the web_search_needed flag and decide if a web search is needed or a response should be generated and return the function name to be called"
   ]
  },
  {
   "cell_type": "code",
   "execution_count": 82,
   "id": "f71c80ad-a28b-48ff-8b42-f266e645b454",
   "metadata": {},
   "outputs": [],
   "source": [
    "def decide_to_generate(state):\n",
    "    \"\"\"\n",
    "    Determines whether to generate an answer, or re-generate a question.\n",
    "    \"\"\"\n",
    "\n",
    "    print(\"---ASSESS GRADED DOCUMENTS---\")\n",
    "    web_search_needed = state[\"web_search_needed\"]\n",
    "\n",
    "    if web_search_needed == \"Yes\":\n",
    "        print(\"---DECISION: SOME or ALL DOCUMENTS ARE NOT RELEVANT TO QUESTION, REWRITE QUERY---\")\n",
    "        return \"rewrite_query\"\n",
    "    else:\n",
    "        # We have relevant documents, so generate answer\n",
    "        print(\"---DECISION: GENERATE RESPONSE---\")\n",
    "        return \"generate_answer\""
   ]
  },
  {
   "cell_type": "code",
   "execution_count": null,
   "id": "c50ff490-97ab-4c7d-9a16-ee42ab0b7a4c",
   "metadata": {},
   "outputs": [],
   "source": []
  },
  {
   "cell_type": "markdown",
   "id": "9b6e8ffa-6c5f-4030-90d4-c9dee0a5c6ed",
   "metadata": {},
   "source": [
    "#### 3.6) Generate Answer\n",
    "Standard LLM Response generation from query and context documents in a RAG system"
   ]
  },
  {
   "cell_type": "code",
   "execution_count": 83,
   "id": "cce99aff-d3aa-4e86-8e65-dabf0f5ea909",
   "metadata": {},
   "outputs": [],
   "source": [
    "def generate_answer(state):\n",
    "    print(\"---GENERATE ANSWER---\")\n",
    "    question = state[\"question\"]\n",
    "    documents = state[\"documents\"]\n",
    "\n",
    "    # RAG generation\n",
    "    generation = qa_rag_chain.invoke({\"context\": documents, \"question\": question})\n",
    "    return {\"documents\": documents, \"question\": question, \"generation\": generation}"
   ]
  },
  {
   "cell_type": "code",
   "execution_count": null,
   "id": "56fa36be-d764-4277-b0fc-c52d6f07bfc6",
   "metadata": {},
   "outputs": [],
   "source": []
  },
  {
   "cell_type": "markdown",
   "id": "fb3c40ac-a8af-418e-9066-e018363d6239",
   "metadata": {},
   "source": [
    "### Building the Agent Graph"
   ]
  },
  {
   "cell_type": "code",
   "execution_count": 84,
   "id": "8f04112e-32e4-4926-a585-0ba6a091d194",
   "metadata": {},
   "outputs": [],
   "source": [
    "from langgraph.graph import END, StateGraph\n",
    "\n",
    "agentic_rag = StateGraph(GraphState)\n",
    "\n",
    "# Define the nodes\n",
    "agentic_rag.add_node(\"retrieve\", retrieve)  # retrieve\n",
    "agentic_rag.add_node(\"grade_documents\", grade_documents)  # grade documents\n",
    "agentic_rag.add_node(\"rewrite_query\", rewrite_query)  # transform_query\n",
    "agentic_rag.add_node(\"web_search\", web_search)  # web search\n",
    "agentic_rag.add_node(\"generate_answer\", generate_answer)  # generate answer\n",
    "\n",
    "# Build graph\n",
    "agentic_rag.set_entry_point(\"retrieve\")\n",
    "agentic_rag.add_edge(\"retrieve\", \"grade_documents\")\n",
    "agentic_rag.add_conditional_edges(\n",
    "    \"grade_documents\",\n",
    "    decide_to_generate,\n",
    "    {\"rewrite_query\": \"rewrite_query\", \"generate_answer\": \"generate_answer\"},\n",
    ")\n",
    "agentic_rag.add_edge(\"rewrite_query\", \"web_search\")\n",
    "agentic_rag.add_edge(\"web_search\", \"generate_answer\")\n",
    "agentic_rag.add_edge(\"generate_answer\", END)\n",
    "\n",
    "# Compile\n",
    "agentic_rag = agentic_rag.compile()"
   ]
  },
  {
   "cell_type": "code",
   "execution_count": 54,
   "id": "65998f47-11e5-49c5-b6d9-bb73369d0c82",
   "metadata": {},
   "outputs": [
    {
     "data": {
      "image/png": "[encoded data removed]",
      "text/plain": [
       "<IPython.core.display.Image object>"
      ]
     },
     "metadata": {},
     "output_type": "display_data"
    }
   ],
   "source": [
    "from IPython.display import Image, display, Markdown\n",
    "\n",
    "display(Image(agentic_rag.get_graph().draw_mermaid_png()))"
   ]
  },
  {
   "cell_type": "code",
   "execution_count": null,
   "id": "d3b5d698-f488-46e6-b632-7bc4d9f1a324",
   "metadata": {},
   "outputs": [],
   "source": []
  },
  {
   "cell_type": "code",
   "execution_count": null,
   "id": "5ada3864-2530-4c10-83b5-a7fbd2837dd4",
   "metadata": {},
   "outputs": [],
   "source": [
    "response"
   ]
  },
  {
   "cell_type": "code",
   "execution_count": null,
   "id": "6ac07e36-0723-4d12-bf88-8d145fbde37c",
   "metadata": {},
   "outputs": [],
   "source": [
    "display(Markdown(response['generation']))"
   ]
  },
  {
   "cell_type": "code",
   "execution_count": null,
   "id": "91b3cc5d-2975-4220-8657-5a59e1aa91db",
   "metadata": {},
   "outputs": [],
   "source": []
  },
  {
   "cell_type": "code",
   "execution_count": 85,
   "id": "d2bd23f5-f2bc-4ca2-b6fd-a2d0494ca193",
   "metadata": {},
   "outputs": [
    {
     "name": "stdout",
     "output_type": "stream",
     "text": [
      "---Retrieveal from Vector DB---\n",
      "---CHECK DOCUMENT RELEVANCE TO QUESTION---\n",
      "---GRADE: DOCUMENT NOT RELEVANT---\n",
      "---GRADE: DOCUMENT NOT RELEVANT---\n",
      "---GRADE: DOCUMENT NOT RELEVANT---\n",
      "---ASSESS GRADED DOCUMENTS---\n",
      "---DECISION: SOME or ALL DOCUMENTS ARE NOT RELEVANT TO QUESTION, REWRITE QUERY---\n",
      "---REWRITE QUERY---\n",
      "previous question who won the champions league in 2024?\n",
      "better question 2024 Champions League winner\n",
      "---WEB SEARCH---\n",
      "2024 Champions League winner\n",
      "[{'title': 'UEFA Champions League 2023/24', 'url': 'https://www.uefa.com/uefachampionsleague/history/seasons/2024/', 'content': 'Image 37: LONDON, ENGLAND - JUNE 01: Toni Kroos, Luka Modric, Nacho Fernandez and Daniel Carvajal lift the trophy as he celebrates UCL title with the throphy after winning the UEFA Champions League 2023/24 final match between Borussia Dortmund v Real Madrid CF at Wembley Stadium on June 01, 2024 in London, England. (Photo by Antonio Villalba/Real Madrid via Getty Images)\\n\\nWinners Real Madrid\\n\\n Madrid complete unbeaten campaign with Dortmund scalp \\n\\nOverviewMatchesGroupsStatsClubs [...] Image 36: LONDON, ENGLAND - JUNE 01: Real Madrid squad lift the trophy as he celebrates UCL title with the throphy after winning the UEFA Champions League 2023/24 final match between Borussia Dortmund v Real Madrid CF at Wembley Stadium on June 01, 2024 in London, England. (Photo by Antonio Villalba/Real Madrid via Getty Images)', 'score': 0.8839694}, {'title': '2024 UEFA Champions League final', 'url': 'https://simple.wikipedia.org/wiki/2024_UEFA_Champions_League_final', 'content': 'The 2024 UEFA Champions League final was the last match of the 2023–24 UEFA Champions League, which is a big football competition in Europe. It\\'s the 69th season of this tournament organized by UEFA, and it\\'s been called the UEFA Champions League for 32 seasons now. This final happened at Wembley Stadium in London, England, on June 1, 2024. The team that won, Real Madrid, gets to play against the winners of the 2023–24 UEFA Europa League, Atalanta, in the 2024 UEFA Super Cup\").\\n\\n## Match [...] |  |  |\\n| --- | --- |\\n| Wembley Stadium in London hosted the final. | |\\n| Event | 2023–24 UEFA Champions League |\\n| | Borussia Dortmund | Real Madrid | | --- | --- | | Germany | Spain | | 0 | 2 | | |\\n| Date | 1 June 2024 (2024-06-01) |\\n| Venue | Wembley Stadium, London |\\n| Man of the Match | Dani Carvajal (Real Madrid) |\\n| Referee \"Referee (association football)\") | Slavko Vinčić\") (Slovenia) |\\n| Attendance | 86,212 |\\n| Weather | Cloudy 18 °C (64 °F) 54% humidity |\\n| ← 2023  2025 → | |', 'score': 0.8665964}, {'title': '2024/25 Champions League: All the results - UEFA.com', 'url': 'https://www.uefa.com/uefachampionsleague/news/0290-1bbe6365b47a-0668db2bbcb1-1000--2024-25-champions-league-all-the-results/', 'content': 'The 2024/25 UEFA Champions League kicked off on 17 September and ran to the final in Munich on 31 May, with the best of the best doing battle once again to be crowned the elite side in Europe. Take a look at the full list of results.\\n\\nFinal\\n-----\\n\\n31 May\\n\\nParis 5-0 Inter\\n\\nSemi-finals\\n-----------\\n\\n### Second legs\\n\\n6 May\\n\\nInter 4-3 Barcelona (aet; agg: 7-6)\\n\\n7 May\\n\\nParis 2-1 Arsenal (agg: 3-1)\\n\\n### First legs\\n\\n29 April\\n\\nArsenal 0-1 Paris\\n\\n30 April\\n\\nBarcelona 3-3 Inter [...] Tuesday 26 NovemberSparta Praha 0-6 Atlético de Madrid\\n\\nSlovan Bratislava 2-3 AC Milan\\n\\nBayer Leverkusen 5-0 Salzburg\\n\\nYoung Boys 1-6 Atalanta\\n\\nBarcelona 3-0 Brest\\n\\nBayern München 1-0 Paris Saint-Germain\\n\\nInter 1-0 Leipzig\\n\\nManchester City 3-3 Feyenoord\\n\\nSporting CP 1-5 Arsenal\\n\\nHighlights: Sporting CP 1-5 Arsenal\\n\\nWednesday 27 NovemberCrvena Zvezda 5-1 Stuttgart\\n\\nSturm Graz 1-0 Girona\\n\\nMonaco 2-3 Benfica\\n\\nAston Villa 0-0 Juventus\\n\\nBologna 1-2 LOSC Lille\\n\\nCeltic 1-1 Club Brugge [...] Inter 4-0 Crvena Zvezda\\n\\nPSV Eindhoven 1-1 Sporting CP\\n\\nSlovan Bratislava 0-4 Manchester City\\n\\nHighlights: Barcelona 5-0 Young Boys\\n\\nWednesday 2 OctoberShakhtar Donetsk 0-3 Atalanta\\n\\nGirona 2-3 Feyenoord\\n\\nAston Villa 1-0 Bayern München\\n\\nGNK Dinamo 2-2 Monaco\\n\\nLiverpool 2-0 Bologna\\n\\nLOSC Lille 1-0 Real Madrid\\n\\nLeipzig 2-3 Juventus\\n\\nSturm Graz 0-1 Club Brugge\\n\\nBenfica 4-0 Atlético de Madrid\\n\\n### Matchday 1\\n\\nTuesday 17 SeptemberYoung Boys 0-3 Aston Villa\\n\\nJuventus 3-1 PSV Eindhoven', 'score': 0.8657814}]\n",
      "1\n",
      "2\n",
      "3\n",
      "---GENERATE ANSWER---\n"
     ]
    }
   ],
   "source": [
    "query = \"who won the champions league in 2024?\"\n",
    "response = agentic_rag.invoke({\"question\": query})"
   ]
  },
  {
   "cell_type": "code",
   "execution_count": 87,
   "id": "ee70cf75-5110-44ce-b61c-b4b21ea7aef3",
   "metadata": {},
   "outputs": [
    {
     "data": {
      "text/plain": [
       "{'question': '2024 Champions League winner',\n",
       " 'generation': 'Based on the provided context, the winner of the 2024 UEFA Champions League was **Real Madrid**.\\n\\nHere are the key details from the final match:\\n\\n*   **Winner:** Real Madrid\\n*   **Opponent:** Borussia Dortmund\\n*   **Final Score:** 2 - 0\\n*   **Date:** June 1, 2024\\n*   **Venue:** Wembley Stadium in London, England\\n*   **Man of the Match:** Dani Carvajal (Real Madrid)\\n\\nThe context confirms that the Real Madrid squad lifted the trophy after winning the final match of the 2023/24 season.',\n",
       " 'web_search_needed': 'Yes',\n",
       " 'documents': [Document(metadata={}, page_content='Image 37: LONDON, ENGLAND - JUNE 01: Toni Kroos, Luka Modric, Nacho Fernandez and Daniel Carvajal lift the trophy as he celebrates UCL title with the throphy after winning the UEFA Champions League 2023/24 final match between Borussia Dortmund v Real Madrid CF at Wembley Stadium on June 01, 2024 in London, England. (Photo by Antonio Villalba/Real Madrid via Getty Images)\\n\\nWinners Real Madrid\\n\\n Madrid complete unbeaten campaign with Dortmund scalp \\n\\nOverviewMatchesGroupsStatsClubs [...] Image 36: LONDON, ENGLAND - JUNE 01: Real Madrid squad lift the trophy as he celebrates UCL title with the throphy after winning the UEFA Champions League 2023/24 final match between Borussia Dortmund v Real Madrid CF at Wembley Stadium on June 01, 2024 in London, England. (Photo by Antonio Villalba/Real Madrid via Getty Images)\\n\\nThe 2024 UEFA Champions League final was the last match of the 2023–24 UEFA Champions League, which is a big football competition in Europe. It\\'s the 69th season of this tournament organized by UEFA, and it\\'s been called the UEFA Champions League for 32 seasons now. This final happened at Wembley Stadium in London, England, on June 1, 2024. The team that won, Real Madrid, gets to play against the winners of the 2023–24 UEFA Europa League, Atalanta, in the 2024 UEFA Super Cup\").\\n\\n## Match [...] |  |  |\\n| --- | --- |\\n| Wembley Stadium in London hosted the final. | |\\n| Event | 2023–24 UEFA Champions League |\\n| | Borussia Dortmund | Real Madrid | | --- | --- | | Germany | Spain | | 0 | 2 | | |\\n| Date | 1 June 2024 (2024-06-01) |\\n| Venue | Wembley Stadium, London |\\n| Man of the Match | Dani Carvajal (Real Madrid) |\\n| Referee \"Referee (association football)\") | Slavko Vinčić\") (Slovenia) |\\n| Attendance | 86,212 |\\n| Weather | Cloudy 18 °C (64 °F) 54% humidity |\\n| ← 2023  2025 → | |\\n\\nThe 2024/25 UEFA Champions League kicked off on 17 September and ran to the final in Munich on 31 May, with the best of the best doing battle once again to be crowned the elite side in Europe. Take a look at the full list of results.\\n\\nFinal\\n-----\\n\\n31 May\\n\\nParis 5-0 Inter\\n\\nSemi-finals\\n-----------\\n\\n### Second legs\\n\\n6 May\\n\\nInter 4-3 Barcelona (aet; agg: 7-6)\\n\\n7 May\\n\\nParis 2-1 Arsenal (agg: 3-1)\\n\\n### First legs\\n\\n29 April\\n\\nArsenal 0-1 Paris\\n\\n30 April\\n\\nBarcelona 3-3 Inter [...] Tuesday 26 NovemberSparta Praha 0-6 Atlético de Madrid\\n\\nSlovan Bratislava 2-3 AC Milan\\n\\nBayer Leverkusen 5-0 Salzburg\\n\\nYoung Boys 1-6 Atalanta\\n\\nBarcelona 3-0 Brest\\n\\nBayern München 1-0 Paris Saint-Germain\\n\\nInter 1-0 Leipzig\\n\\nManchester City 3-3 Feyenoord\\n\\nSporting CP 1-5 Arsenal\\n\\nHighlights: Sporting CP 1-5 Arsenal\\n\\nWednesday 27 NovemberCrvena Zvezda 5-1 Stuttgart\\n\\nSturm Graz 1-0 Girona\\n\\nMonaco 2-3 Benfica\\n\\nAston Villa 0-0 Juventus\\n\\nBologna 1-2 LOSC Lille\\n\\nCeltic 1-1 Club Brugge [...] Inter 4-0 Crvena Zvezda\\n\\nPSV Eindhoven 1-1 Sporting CP\\n\\nSlovan Bratislava 0-4 Manchester City\\n\\nHighlights: Barcelona 5-0 Young Boys\\n\\nWednesday 2 OctoberShakhtar Donetsk 0-3 Atalanta\\n\\nGirona 2-3 Feyenoord\\n\\nAston Villa 1-0 Bayern München\\n\\nGNK Dinamo 2-2 Monaco\\n\\nLiverpool 2-0 Bologna\\n\\nLOSC Lille 1-0 Real Madrid\\n\\nLeipzig 2-3 Juventus\\n\\nSturm Graz 0-1 Club Brugge\\n\\nBenfica 4-0 Atlético de Madrid\\n\\n### Matchday 1\\n\\nTuesday 17 SeptemberYoung Boys 0-3 Aston Villa\\n\\nJuventus 3-1 PSV Eindhoven')]}"
      ]
     },
     "execution_count": 87,
     "metadata": {},
     "output_type": "execute_result"
    }
   ],
   "source": [
    "response"
   ]
  },
  {
   "cell_type": "code",
   "execution_count": 86,
   "id": "be81a8a0-de14-4eb8-88f0-6b969692e4ea",
   "metadata": {},
   "outputs": [
    {
     "data": {
      "text/markdown": [
       "Based on the provided context, the winner of the 2024 UEFA Champions League was **Real Madrid**.\n",
       "\n",
       "Here are the key details from the final match:\n",
       "\n",
       "*   **Winner:** Real Madrid\n",
       "*   **Opponent:** Borussia Dortmund\n",
       "*   **Final Score:** 2 - 0\n",
       "*   **Date:** June 1, 2024\n",
       "*   **Venue:** Wembley Stadium in London, England\n",
       "*   **Man of the Match:** Dani Carvajal (Real Madrid)\n",
       "\n",
       "The context confirms that the Real Madrid squad lifted the trophy after winning the final match of the 2023/24 season."
      ],
      "text/plain": [
       "<IPython.core.display.Markdown object>"
      ]
     },
     "metadata": {},
     "output_type": "display_data"
    }
   ],
   "source": [
    "display(Markdown(response['generation']))"
   ]
  },
  {
   "cell_type": "code",
   "execution_count": null,
   "id": "a1b506fd-2509-433b-a2ac-6c86d0074232",
   "metadata": {},
   "outputs": [],
   "source": []
  },
  {
   "cell_type": "code",
   "execution_count": 91,
   "id": "91e7b83a-d14c-49b5-85d2-bea3285f5d77",
   "metadata": {},
   "outputs": [
    {
     "name": "stdout",
     "output_type": "stream",
     "text": [
      "---Retrieveal from Vector DB---\n",
      "---CHECK DOCUMENT RELEVANCE TO QUESTION---\n",
      "---GRADE: DOCUMENT NOT RELEVANT---\n",
      "---GRADE: DOCUMENT NOT RELEVANT---\n",
      "---GRADE: DOCUMENT RELEVANT---\n",
      "---ASSESS GRADED DOCUMENTS---\n",
      "---DECISION: SOME or ALL DOCUMENTS ARE NOT RELEVANT TO QUESTION, REWRITE QUERY---\n",
      "---REWRITE QUERY---\n",
      "previous question who is the greatest european football club of all time based on trophies won?\n",
      "better question European football clubs ranked by total trophies\n",
      "---WEB SEARCH---\n",
      "European football clubs ranked by total trophies\n",
      "[{'title': 'European Cup and UEFA Champions League records and statistics', 'url': 'https://en.wikipedia.org/wiki/European_Cup_and_UEFA_Champions_League_records_and_statistics', 'content': '| Image 7: GermanyBayern Munich | 6 | 5 | 1974, 1975, 1976, 2001, 2013, 2020 | 1982, 1987, 1999, 2010, 2012 |\\n| Image 8: EnglandLiverpool | 6 | 4 | 1977, 1978, 1981, 1984, 2005, 2019 | 1985, 2007, 2018, 2022 |\\n| Image 9: SpainBarcelona | 5 | 3 | 1992, 2006, 2009, 2011, 2015 | 1961, 1986, 1994 |\\n| Image 10: NetherlandsAjax | 4 | 2 | 1971, 1972, 1973, 1995 | 1969, 1996 |\\n| Image 11: ItalyInter Milan | 3 | 4 | 1964, 1965, 2010 | 1967, 1972, 2023, 2025 | [...] Spanish clubs are the most successful, winning twenty titles. England is second with fifteen and Italy is third with twelve. Germany has eight titles, Netherlands has six, Portugal has four, France has two and Scotland, Romania and Yugoslavia each have one. Clubs from Greece, Belgium and Sweden have reached the final but never won. [...] | Image 49: ItalyItaly | 12 | 18 | Milan (7) Inter Milan (3) Juventus (2) | Juventus (7) Milan (4) Inter Milan (4) Fiorentina (1) Roma (1) Sampdoria (1) |\\n| Image 50: GermanyGermany | 8 | 11 | Bayern Munich (6) Hamburger SV (1) Borussia Dortmund (1) | Bayern Munich (5) Borussia Dortmund (2) Bayer Leverkusen (1) Borussia Mönchengladbach (1) Eintracht Frankfurt (1) Hamburger SV (1) |\\n| Image 51: NetherlandsNetherlands | 6 | 2 | Ajax (4) Feyenoord (1) PSV Eindhoven (1) | Ajax (2) |', 'score': 0.6698534}, {'title': 'List of UEFA Champions League past winners: Year-by-year results ...', 'url': 'https://www.nbcsports.com/soccer/news/uefa-champions-league-winners-every-club-to-lift-the-european-cup', 'content': '1.   Real Madrid, 18\\n2.   AC Milan, 11\\n3.   Bayern Munich, 11\\n4.   Liverpool, 10\\n5.   Juventus, 9\\n6.   Barcelona, 8\\n7.   Benfica, 7\\n8.   Inter Milan, 6\\n9.   Manchester United, 5\\n10.   Chelsea, 3\\n11.   Atletico Madrid, 3\\n12.    Borussia Dortmund, 3\\n13.   Porto, 2\\n14.   Reims, 2\\n15.   Valencia, 2\\n16.   Celtic, 2\\n17.   Hamburg, 2\\n18.   Steaua Bucharest, 2\\n19.   Marseille, 2\\n20.   Nottingham Forest, 2\\n21.   Manchester City, 2\\n22.   Paris Saint-Germain, 2\\n23.   Feyenoord, 1\\n24.   Aston Villa, 1 [...] 1.   Real Madrid, 15\\n2.   AC Milan, 7\\n3.   Bayern Munich, 6\\n4.   Liverpool, 6\\n5.   Barcelona, 5\\n6.   Ajax, 4\\n7.   Inter Milan, 3\\n8.   Manchester United, 3\\n9.   Juventus, 2\\n10.   Benfica, 2\\n11.   Chelsea, 2\\n12.   Nottingham Forest, 2\\n13.   Porto, 1\\n14.   Hamburg, 1\\n15.   Steaua Bucharest, 1\\n16.   Marseille, 1\\n17.   Borussia Dortmund, 1\\n18.   Manchester City, 1\\n19.   Feyenoord, 1\\n20.   Aston Villa, 1\\n21.   PSV Eindhoven, 1\\n22.   Red Star Belgrade, 1\\n23.   Paris Saint-Germain, 1 [...] Here you will find a list of all European Cup finals as well as the leaderboard for finals appearances and wins, with Paris Saint-Germain nabbing a first title to join leaders Real Madrid — 15 trophies — and 21 other teams in select company.\\n\\nThe UEFA Champions League is the most celebrated club tournament in the world, and has been won most-often by Real Madrid, who extended their own record tally by beating Borussia Dortmund at Wembley in 2024.', 'score': 0.63316137}, {'title': 'Most titles | History | UEFA Champions League', 'url': 'https://www.uefa.com/uefachampionsleague/history/winners/', 'content': 'Watch highlights\\n\\nWatch highlights\\n\\nWatch highlights\\n\\nWatch highlights\\n\\nBarcelona\\n\\n5\\n\\nWatch highlights\\n\\nWatch highlights\\n\\nWatch highlights\\n\\nWatch highlights\\n\\nWatch highlights\\n\\nAjax\\n\\n4\\n\\nWatch highlights\\n\\nWatch highlights\\n\\nWatch highlights\\n\\nWatch highlights\\n\\nMan Utd\\n\\n3\\n\\nWatch highlights\\n\\nWatch highlights\\n\\nWatch highlights\\n\\nInter\\n\\n3\\n\\nWatch highlights\\n\\nWatch highlights\\n\\nWatch highlights\\n\\nChelsea\\n\\n2\\n\\nWatch highlights\\n\\nWatch highlights\\n\\nNottm Forest\\n\\n2\\n\\nWatch highlights\\n\\nWatch highlights\\n\\nBenfica\\n\\n2 [...] Watch highlights\\n\\nWatch highlights\\n\\nJuventus\\n\\n2\\n\\nWatch highlights\\n\\nWatch highlights\\n\\nPorto\\n\\n2\\n\\nWatch highlights\\n\\nWatch highlights\\n\\nMan City\\n\\n1\\n\\nWatch highlights\\n\\nB. Dortmund\\n\\n1\\n\\nWatch highlights\\n\\nFeyenoord\\n\\n1\\n\\nWatch highlights\\n\\nMarseille\\n\\n1\\n\\nWatch highlights\\n\\nParis\\n\\n1\\n\\nWatch highlights\\n\\nAston Villa\\n\\n1\\n\\nWatch highlights\\n\\nHamburg\\n\\n1\\n\\nWatch highlights\\n\\nCrvena Zvezda\\n\\n1\\n\\nWatch highlights\\n\\nFCSB\\n\\n1\\n\\nWatch highlights\\n\\nPSV\\n\\n1\\n\\nWatch highlights\\n\\nCeltic\\n\\n1\\n\\nWatch highlights\\n\\nUEFA Champions League [...] Watch highlights\\n\\nWatch highlights\\n\\nWatch highlights\\n\\nWatch highlights\\n\\nWatch highlights\\n\\nWatch highlights\\n\\nWatch highlights\\n\\nWatch highlights\\n\\nWatch highlights\\n\\nWatch highlights\\n\\nMilan\\n\\n7\\n\\nWatch highlights\\n\\nWatch highlights\\n\\nWatch highlights\\n\\nWatch highlights\\n\\nWatch highlights\\n\\nWatch highlights\\n\\nWatch highlights\\n\\nLiverpool\\n\\n6\\n\\nWatch highlights\\n\\nWatch highlights\\n\\nWatch highlights\\n\\nWatch highlights\\n\\nWatch highlights\\n\\nWatch highlights\\n\\nBayern München\\n\\n6\\n\\nWatch highlights\\n\\nWatch highlights', 'score': 0.55565286}]\n",
      "1\n",
      "2\n",
      "3\n",
      "---GENERATE ANSWER---\n"
     ]
    }
   ],
   "source": [
    "query = \"who is the greatest european football club of all time based on trophies won?\"\n",
    "response = agentic_rag.invoke({\"question\": query})"
   ]
  },
  {
   "cell_type": "code",
   "execution_count": 92,
   "id": "bc48cc88-77ed-49d8-b254-394622e0f1b8",
   "metadata": {},
   "outputs": [
    {
     "data": {
      "text/markdown": [
       "Based on the provided context, here is the ranking of European football clubs by the total number of UEFA Champions League/European Cup trophies won:\n",
       "\n",
       "**Real Madrid** is the most successful club, having won the tournament 15 times.\n",
       "\n",
       "Here is a detailed ranking of the clubs listed in the context:\n",
       "\n",
       "*   **15 Trophies:**\n",
       "    *   Real Madrid\n",
       "\n",
       "*   **7 Trophies:**\n",
       "    *   AC Milan\n",
       "\n",
       "*   **6 Trophies:**\n",
       "    *   Bayern Munich\n",
       "    *   Liverpool\n",
       "\n",
       "*   **5 Trophies:**\n",
       "    *   Barcelona\n",
       "\n",
       "*   **4 Trophies:**\n",
       "    *   Ajax\n",
       "\n",
       "*   **3 Trophies:**\n",
       "    *   Inter Milan\n",
       "    *   Manchester United\n",
       "\n",
       "*   **2 Trophies:**\n",
       "    *   Juventus\n",
       "    *   Benfica\n",
       "    *   Chelsea\n",
       "    *   Nottingham Forest\n",
       "    *   Porto\n",
       "\n",
       "*   **1 Trophy:**\n",
       "    *   Manchester City\n",
       "    *   Borussia Dortmund\n",
       "    *   Feyenoord\n",
       "    *   Marseille\n",
       "    *   Paris Saint-Germain (PSG)\n",
       "    *   Aston Villa\n",
       "    *   Hamburger SV\n",
       "    *   Red Star Belgrade (Crvena Zvezda)\n",
       "    *   FCSB (Steaua Bucharest)\n",
       "    *   PSV Eindhoven\n",
       "    *   Celtic"
      ],
      "text/plain": [
       "<IPython.core.display.Markdown object>"
      ]
     },
     "metadata": {},
     "output_type": "display_data"
    }
   ],
   "source": [
    "display(Markdown(response['generation']))"
   ]
  },
  {
   "cell_type": "code",
   "execution_count": null,
   "id": "3babfa29-de49-48cf-b4ce-e60238f779f2",
   "metadata": {},
   "outputs": [],
   "source": []
  },
  {
   "cell_type": "code",
   "execution_count": null,
   "id": "b181a357-6176-466c-98a4-63e77d3df8d3",
   "metadata": {},
   "outputs": [],
   "source": []
  },
  {
   "cell_type": "markdown",
   "id": "1c6a019b-9ad3-4bf8-84df-556d44bae2d2",
   "metadata": {},
   "source": [
    "##### Tavily Response check"
   ]
  },
  {
   "cell_type": "code",
   "execution_count": 56,
   "id": "5313a626-a995-43fb-83c2-a675947d190d",
   "metadata": {},
   "outputs": [
    {
     "data": {
      "text/plain": [
       "[{'title': 'UEFA Champions League 2023/24',\n",
       "  'url': 'https://www.uefa.com/uefachampionsleague/history/seasons/2024/',\n",
       "  'content': \"Image 37: LONDON, ENGLAND - JUNE 01: Toni Kroos, Luka Modric, Nacho Fernandez and Daniel Carvajal lift the trophy as he celebrates UCL title with the throphy after winning the UEFA Champions League 2023/24 final match between Borussia Dortmund v Real Madrid CF at Wembley Stadium on June 01, 2024 in London, England. (Photo by Antonio Villalba/Real Madrid via Getty Images)\\n\\nWinners Real Madrid\\n\\n Madrid complete unbeaten campaign with Dortmund scalp \\n\\nOverviewMatchesGroupsStatsClubs [...] Image 36: LONDON, ENGLAND - JUNE 01: Real Madrid squad lift the trophy as he celebrates UCL title with the throphy after winning the UEFA Champions League 2023/24 final match between Borussia Dortmund v Real Madrid CF at Wembley Stadium on June 01, 2024 in London, England. (Photo by Antonio Villalba/Real Madrid via Getty Images) [...] Image 34: LONDON, ENGLAND - JUNE 01: Gregor Kobel and Mats Hummels of Borussia Dortmund attempt to stop the ball, as Daniel Carvajal of Real Madrid scores his team's first goal with a header during the UEFA Champions League 2023/24 Final match between Borussia Dortmund and Real Madrid CF at Wembley Stadium on June 01, 2024 in London, England. (Photo by Ryan Pierse/Getty Images)\",\n",
       "  'score': 0.8800674},\n",
       " {'title': '2024 UEFA Champions League final',\n",
       "  'url': 'https://simple.wikipedia.org/wiki/2024_UEFA_Champions_League_final',\n",
       "  'content': 'The 2024 UEFA Champions League final was the last match of the 2023–24 UEFA Champions League, which is a big football competition in Europe. It\\'s the 69th season of this tournament organized by UEFA, and it\\'s been called the UEFA Champions League for 32 seasons now. This final happened at Wembley Stadium in London, England, on June 1, 2024. The team that won, Real Madrid, gets to play against the winners of the 2023–24 UEFA Europa League, Atalanta, in the 2024 UEFA Super Cup\").\\n\\n## Match [...] |  |  |\\n| --- | --- |\\n| Wembley Stadium in London hosted the final. | |\\n| Event | 2023–24 UEFA Champions League |\\n| | Borussia Dortmund | Real Madrid | | --- | --- | | Germany | Spain | | 0 | 2 | | |\\n| Date | 1 June 2024 (2024-06-01) |\\n| Venue | Wembley Stadium, London |\\n| Man of the Match | Dani Carvajal (Real Madrid) |\\n| Referee \"Referee (association football)\") | Slavko Vinčić\") (Slovenia) |\\n| Attendance | 86,212 |\\n| Weather | Cloudy 18 °C (64 °F) 54% humidity |\\n| ← 2023  2025 → | | [...] | Borussia Dortmund | Real Madrid |\\n| --- | --- |\\n| Germany | Spain |\\n| 0 | 2 |\\n\\nGermany\\nSpain',\n",
       "  'score': 0.8773195},\n",
       " {'title': 'List of UEFA Champions League past winners: Year-by- ...',\n",
       "  'url': 'https://www.nbcsports.com/soccer/news/uefa-champions-league-winners-every-club-to-lift-the-european-cup',\n",
       "  'content': 'Here you will find a list of all European Cup finals as well as the leaderboard for finals appearances and wins, with Paris Saint-Germain nabbing a first title to join leaders Real Madrid — 15 trophies — and 21 other teams in select company.\\n\\nThe UEFA Champions League is the most celebrated club tournament in the world, and has been won most-often by Real Madrid, who extended their own record tally by beating Borussia Dortmund at Wembley in 2024.',\n",
       "  'score': 0.8657814}]"
      ]
     },
     "execution_count": 56,
     "metadata": {},
     "output_type": "execute_result"
    }
   ],
   "source": [
    "docs = tv_search.invoke(\"who won the champions league in 2024?\")\n",
    "\n",
    "docs\n"
   ]
  },
  {
   "cell_type": "code",
   "execution_count": 58,
   "id": "a38d5c96-9850-40a1-aa44-74d23a31dd5c",
   "metadata": {},
   "outputs": [],
   "source": [
    "web_results = \"\\n\\n\".join([d[\"content\"] for d in docs])\n"
   ]
  },
  {
   "cell_type": "code",
   "execution_count": 59,
   "id": "90f75c26-a734-4490-8786-be57413bf498",
   "metadata": {},
   "outputs": [
    {
     "data": {
      "text/plain": [
       "'Image 37: LONDON, ENGLAND - JUNE 01: Toni Kroos, Luka Modric, Nacho Fernandez and Daniel Carvajal lift the trophy as he celebrates UCL title with the throphy after winning the UEFA Champions League 2023/24 final match between Borussia Dortmund v Real Madrid CF at Wembley Stadium on June 01, 2024 in London, England. (Photo by Antonio Villalba/Real Madrid via Getty Images)\\n\\nWinners Real Madrid\\n\\n Madrid complete unbeaten campaign with Dortmund scalp \\n\\nOverviewMatchesGroupsStatsClubs [...] Image 36: LONDON, ENGLAND - JUNE 01: Real Madrid squad lift the trophy as he celebrates UCL title with the throphy after winning the UEFA Champions League 2023/24 final match between Borussia Dortmund v Real Madrid CF at Wembley Stadium on June 01, 2024 in London, England. (Photo by Antonio Villalba/Real Madrid via Getty Images) [...] Image 34: LONDON, ENGLAND - JUNE 01: Gregor Kobel and Mats Hummels of Borussia Dortmund attempt to stop the ball, as Daniel Carvajal of Real Madrid scores his team\\'s first goal with a header during the UEFA Champions League 2023/24 Final match between Borussia Dortmund and Real Madrid CF at Wembley Stadium on June 01, 2024 in London, England. (Photo by Ryan Pierse/Getty Images)\\n\\nThe 2024 UEFA Champions League final was the last match of the 2023–24 UEFA Champions League, which is a big football competition in Europe. It\\'s the 69th season of this tournament organized by UEFA, and it\\'s been called the UEFA Champions League for 32 seasons now. This final happened at Wembley Stadium in London, England, on June 1, 2024. The team that won, Real Madrid, gets to play against the winners of the 2023–24 UEFA Europa League, Atalanta, in the 2024 UEFA Super Cup\").\\n\\n## Match [...] |  |  |\\n| --- | --- |\\n| Wembley Stadium in London hosted the final. | |\\n| Event | 2023–24 UEFA Champions League |\\n| | Borussia Dortmund | Real Madrid | | --- | --- | | Germany | Spain | | 0 | 2 | | |\\n| Date | 1 June 2024 (2024-06-01) |\\n| Venue | Wembley Stadium, London |\\n| Man of the Match | Dani Carvajal (Real Madrid) |\\n| Referee \"Referee (association football)\") | Slavko Vinčić\") (Slovenia) |\\n| Attendance | 86,212 |\\n| Weather | Cloudy 18 °C (64 °F) 54% humidity |\\n| ← 2023  2025 → | | [...] | Borussia Dortmund | Real Madrid |\\n| --- | --- |\\n| Germany | Spain |\\n| 0 | 2 |\\n\\nGermany\\nSpain\\n\\nHere you will find a list of all European Cup finals as well as the leaderboard for finals appearances and wins, with Paris Saint-Germain nabbing a first title to join leaders Real Madrid — 15 trophies — and 21 other teams in select company.\\n\\nThe UEFA Champions League is the most celebrated club tournament in the world, and has been won most-often by Real Madrid, who extended their own record tally by beating Borussia Dortmund at Wembley in 2024.'"
      ]
     },
     "execution_count": 59,
     "metadata": {},
     "output_type": "execute_result"
    }
   ],
   "source": [
    "web_results"
   ]
  }
 ],
 "metadata": {
  "kernelspec": {
   "display_name": "langch",
   "language": "python",
   "name": "langch"
  },
  "language_info": {
   "codemirror_mode": {
    "name": "ipython",
    "version": 3
   },
   "file_extension": ".py",
   "mimetype": "text/x-python",
   "name": "python",
   "nbconvert_exporter": "python",
   "pygments_lexer": "ipython3",
   "version": "3.12.11"
  }
 },
 "nbformat": 4,
 "nbformat_minor": 5
}
